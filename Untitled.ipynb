{
 "cells": [
  {
   "cell_type": "code",
   "execution_count": 1,
   "metadata": {
    "colab": {
     "base_uri": "https://localhost:8080/",
     "height": 722
    },
    "colab_type": "code",
    "id": "TqxcVxUSRRBX",
    "outputId": "39e01a00-fb53-453b-d711-24599726d6f4"
   },
   "outputs": [
    {
     "name": "stdout",
     "output_type": "stream",
     "text": [
      "Requirement already satisfied: ccxt in d:\\users\\saloh\\appdata\\local\\programs\\python\\python38\\lib\\site-packages (1.25.28)\n",
      "Requirement already satisfied: cryptography>=2.6.1 in d:\\users\\saloh\\appdata\\local\\programs\\python\\python38\\lib\\site-packages (from ccxt) (2.8)\n",
      "Requirement already satisfied: aiohttp==3.6.2; python_version >= \"3.5.2\" in d:\\users\\saloh\\appdata\\local\\programs\\python\\python38\\lib\\site-packages (from ccxt) (3.6.2)\n",
      "Requirement already satisfied: aiodns==1.1.1; python_version >= \"3.5.2\" in d:\\users\\saloh\\appdata\\local\\programs\\python\\python38\\lib\\site-packages (from ccxt) (1.1.1)\n",
      "Requirement already satisfied: certifi>=2018.1.18 in d:\\users\\saloh\\appdata\\local\\programs\\python\\python38\\lib\\site-packages (from ccxt) (2019.11.28)\n",
      "Requirement already satisfied: yarl==1.1.0; python_version >= \"3.5.2\" in d:\\users\\saloh\\appdata\\local\\programs\\python\\python38\\lib\\site-packages (from ccxt) (1.1.0)\n",
      "Requirement already satisfied: setuptools>=38.5.1 in d:\\users\\saloh\\appdata\\local\\programs\\python\\python38\\lib\\site-packages (from ccxt) (41.2.0)\n",
      "Requirement already satisfied: requests>=2.18.4 in d:\\users\\saloh\\appdata\\local\\programs\\python\\python38\\lib\\site-packages (from ccxt) (2.23.0)\n",
      "Requirement already satisfied: cffi!=1.11.3,>=1.8 in d:\\users\\saloh\\appdata\\local\\programs\\python\\python38\\lib\\site-packages (from cryptography>=2.6.1->ccxt) (1.14.0)\n",
      "Requirement already satisfied: six>=1.4.1 in d:\\users\\saloh\\appdata\\local\\programs\\python\\python38\\lib\\site-packages (from cryptography>=2.6.1->ccxt) (1.14.0)\n",
      "Requirement already satisfied: attrs>=17.3.0 in d:\\users\\saloh\\appdata\\local\\programs\\python\\python38\\lib\\site-packages (from aiohttp==3.6.2; python_version >= \"3.5.2\"->ccxt) (19.3.0)\n",
      "Requirement already satisfied: chardet<4.0,>=2.0 in d:\\users\\saloh\\appdata\\local\\programs\\python\\python38\\lib\\site-packages (from aiohttp==3.6.2; python_version >= \"3.5.2\"->ccxt) (3.0.4)\n",
      "Requirement already satisfied: async-timeout<4.0,>=3.0 in d:\\users\\saloh\\appdata\\local\\programs\\python\\python38\\lib\\site-packages (from aiohttp==3.6.2; python_version >= \"3.5.2\"->ccxt) (3.0.1)\n",
      "Requirement already satisfied: multidict<5.0,>=4.5 in d:\\users\\saloh\\appdata\\local\\programs\\python\\python38\\lib\\site-packages (from aiohttp==3.6.2; python_version >= \"3.5.2\"->ccxt) (4.7.5)\n",
      "Requirement already satisfied: pycares>=1.0.0 in d:\\users\\saloh\\appdata\\local\\programs\\python\\python38\\lib\\site-packages (from aiodns==1.1.1; python_version >= \"3.5.2\"->ccxt) (3.1.1)\n",
      "Requirement already satisfied: idna>=2.0 in d:\\users\\saloh\\appdata\\local\\programs\\python\\python38\\lib\\site-packages (from yarl==1.1.0; python_version >= \"3.5.2\"->ccxt) (2.9)\n",
      "Requirement already satisfied: urllib3!=1.25.0,!=1.25.1,<1.26,>=1.21.1 in d:\\users\\saloh\\appdata\\local\\programs\\python\\python38\\lib\\site-packages (from requests>=2.18.4->ccxt) (1.25.8)\n",
      "Requirement already satisfied: pycparser in d:\\users\\saloh\\appdata\\local\\programs\\python\\python38\\lib\\site-packages (from cffi!=1.11.3,>=1.8->cryptography>=2.6.1->ccxt) (2.20)\n",
      "Note: you may need to restart the kernel to use updated packages.\n"
     ]
    }
   ],
   "source": [
    "pip install ccxt"
   ]
  },
  {
   "cell_type": "code",
   "execution_count": 2,
   "metadata": {
    "colab": {
     "base_uri": "https://localhost:8080/",
     "height": 54
    },
    "colab_type": "code",
    "id": "9QtJR7UkSWUu",
    "outputId": "8deb0092-6237-484d-c777-ac8383d25b8c"
   },
   "outputs": [
    {
     "name": "stdout",
     "output_type": "stream",
     "text": [
      "['_1btcxe', 'acx', 'adara', 'anxpro', 'bcex', 'bequant', 'bibox', 'bigone', 'binance', 'binanceje', 'binanceus', 'bit2c', 'bitbank', 'bitbay', 'bitfinex', 'bitfinex2', 'bitflyer', 'bitforex', 'bithumb', 'bitkk', 'bitlish', 'bitmart', 'bitmax', 'bitmex', 'bitso', 'bitstamp', 'bitstamp1', 'bittrex', 'bitz', 'bl3p', 'bleutrade', 'braziliex', 'btcalpha', 'btcbox', 'btcmarkets', 'btctradeim', 'btctradeua', 'btcturk', 'buda', 'bw', 'bybit', 'bytetrade', 'cex', 'chilebit', 'cobinhood', 'coinbase', 'coinbaseprime', 'coinbasepro', 'coincheck', 'coinegg', 'coinex', 'coinfalcon', 'coinfloor', 'coingi', 'coinmarketcap', 'coinmate', 'coinone', 'coinspot', 'coolcoin', 'coss', 'crex24', 'deribit', 'digifinex', 'dsx', 'exmo', 'exx', 'fcoin', 'fcoinjp', 'flowbtc', 'foxbit', 'ftx', 'fybse', 'gateio', 'gemini', 'hitbtc', 'hitbtc2', 'hollaex', 'huobipro', 'huobiru', 'ice3x', 'idex', 'independentreserve', 'indodax', 'itbit', 'kkex', 'kraken', 'kucoin', 'kuna', 'lakebtc', 'latoken', 'lbank', 'liquid', 'livecoin', 'luno', 'lykke', 'mercado', 'mixcoins', 'oceanex', 'okcoin', 'okcoinusd', 'okex', 'okex3', 'paymium', 'poloniex', 'rightbtc', 'southxchange', 'stex', 'stronghold', 'surbitcoin', 'theocean', 'therock', 'tidebit', 'tidex', 'timex', 'topq', 'upbit', 'vaultoro', 'vbtc', 'whitebit', 'xbtce', 'yobit', 'zaif', 'zb']\n"
     ]
    }
   ],
   "source": [
    "import ccxt\n",
    "print(ccxt.exchanges) # print a list of all available exchange classes\n",
    "import ccxt.async_support as ccxt # link against the asynchronous version of ccxt"
   ]
  },
  {
   "cell_type": "code",
   "execution_count": 3,
   "metadata": {
    "colab": {
     "base_uri": "https://localhost:8080/",
     "height": 34
    },
    "colab_type": "code",
    "id": "nx9IAbNySrJ3",
    "outputId": "8ddd6f9b-7c0f-4528-8fb4-f67ce9e18daa"
   },
   "outputs": [
    {
     "name": "stdout",
     "output_type": "stream",
     "text": [
      "{'info': {}, 'free': {}, 'used': {}, 'total': {}}\n"
     ]
    }
   ],
   "source": [
    "# coding=utf-8\n",
    "\n",
    "import ccxt\n",
    "\n",
    "#hitbtc   = ccxt.hitbtc({'verbose': True})\n",
    "#bitmex   = ccxt.bitmex()\n",
    "#huobipro = ccxt.huobipro()\n",
    "#exmo     = ccxt.exmo({\n",
    "#    'apiKey': 'YOUR_PUBLIC_API_KEY',\n",
    "#    'secret': 'YOUR_SECRET_PRIVATE_KEY',\n",
    "#})\n",
    "kraken = ccxt.kraken({\n",
    "    #'apiKey': '9GNlCktRueMajrTG7y2h1Zazc1xK85j2hpX3i1ge5ZKklBdu0JDYGkb+',\n",
    "    #'secret': 'Sq+U4R5mqnbq3I//msBEEsxPTIqqIIEYeFXiU5s86QdA952IVLtqx0QPe5W3FqaYi2K1+GJEH79FiM2IrQGUDA==',\n",
    "    'apiKey': 'etc/DDcwNoKxfIBAmJOlYrm4U9flpGLxWvG9ER5Rb92mtUomoKqG3CHN',\n",
    "    'secret': 'pvzEHr0sUDB2K3zL/DZ6T9uBUxCiCnFrThiTNZP6RReeMyKDX6eZginSWwlYJnT/IaijlE1ylIhPrJAldnAa+A==',\n",
    "})\n",
    "\n",
    "#exchange_id = 'binance'\n",
    "#exchange_class = getattr(ccxt, exchange_id)\n",
    "#exchange = exchange_class({\n",
    "#    'apiKey': 'YOUR_API_KEY',\n",
    "#    'secret': 'YOUR_SECRET',\n",
    "#    'timeout': 30000,\n",
    "#    'enableRateLimit': True,\n",
    "#})\n",
    "\n",
    "#hitbtc_markets = hitbtc.load_markets()\n",
    "\n",
    "#print(hitbtc.id, hitbtc_markets)\n",
    "#print(bitmex.id, bitmex.load_markets())\n",
    "#print(huobipro.id, huobipro.load_markets())\n",
    "\n",
    "#print(hitbtc.fetch_order_book(hitbtc.symbols[0]))\n",
    "#print(bitmex.fetch_ticker('BTC/USD'))\n",
    "#print(huobipro.fetch_trades('LTC/CNY'))\n",
    "\n",
    "#print(exmo.fetch_balance())\n",
    "\n",
    "# sell one ฿ for market price and receive $ right now\n",
    "#print(exmo.id, exmo.create_market_sell_order('BTC/USD', 1))\n",
    "\n",
    "# limit buy BTC/EUR, you pay €2500 and receive ฿1  when the order is closed\n",
    "#print(exmo.id, exmo.create_limit_buy_order('BTC/EUR', 1, 2500.00))\n",
    "\n",
    "# pass/redefine custom exchange-specific order params: type, amount, price, flags, etc...\n",
    "#kraken.create_market_buy_order('BTC/USD', .0001, {'trading_agreement': 'agree'})\n",
    "\n",
    "print(kraken.fetch_balance())\n",
    "#print(kraken.)"
   ]
  },
  {
   "cell_type": "code",
   "execution_count": 4,
   "metadata": {
    "colab": {
     "base_uri": "https://localhost:8080/",
     "height": 50
    },
    "colab_type": "code",
    "id": "uYe612tyjoVN",
    "outputId": "d03d4685-c8e7-4cb2-e057-02ac717a8734"
   },
   "outputs": [
    {
     "name": "stdout",
     "output_type": "stream",
     "text": [
      "Requirement already satisfied: cryptowatch-sdk in d:\\users\\saloh\\appdata\\local\\programs\\python\\python38\\lib\\site-packages (0.0.11)\n",
      "Requirement already satisfied: marshmallow>=3.2.2 in d:\\users\\saloh\\appdata\\local\\programs\\python\\python38\\lib\\site-packages (from cryptowatch-sdk) (3.5.1)\n",
      "Requirement already satisfied: requests>=2.22.0 in d:\\users\\saloh\\appdata\\local\\programs\\python\\python38\\lib\\site-packages (from cryptowatch-sdk) (2.23.0)\n",
      "Requirement already satisfied: protobuf>=3.11.3 in d:\\users\\saloh\\appdata\\local\\programs\\python\\python38\\lib\\site-packages (from cryptowatch-sdk) (3.11.3)\n",
      "Requirement already satisfied: websocket-client>=0.56.0 in d:\\users\\saloh\\appdata\\local\\programs\\python\\python38\\lib\\site-packages (from cryptowatch-sdk) (0.57.0)\n",
      "Requirement already satisfied: PyYAML>=5.1.2 in d:\\users\\saloh\\appdata\\local\\programs\\python\\python38\\lib\\site-packages (from cryptowatch-sdk) (5.3.1)\n",
      "Requirement already satisfied: urllib3>=1.25.7 in d:\\users\\saloh\\appdata\\local\\programs\\python\\python38\\lib\\site-packages (from cryptowatch-sdk) (1.25.8)\n",
      "Requirement already satisfied: idna<3,>=2.5 in d:\\users\\saloh\\appdata\\local\\programs\\python\\python38\\lib\\site-packages (from requests>=2.22.0->cryptowatch-sdk) (2.9)\n",
      "Requirement already satisfied: certifi>=2017.4.17 in d:\\users\\saloh\\appdata\\local\\programs\\python\\python38\\lib\\site-packages (from requests>=2.22.0->cryptowatch-sdk) (2019.11.28)\n",
      "Requirement already satisfied: chardet<4,>=3.0.2 in d:\\users\\saloh\\appdata\\local\\programs\\python\\python38\\lib\\site-packages (from requests>=2.22.0->cryptowatch-sdk) (3.0.4)\n",
      "Requirement already satisfied: setuptools in d:\\users\\saloh\\appdata\\local\\programs\\python\\python38\\lib\\site-packages (from protobuf>=3.11.3->cryptowatch-sdk) (41.2.0)\n",
      "Requirement already satisfied: six>=1.9 in d:\\users\\saloh\\appdata\\local\\programs\\python\\python38\\lib\\site-packages (from protobuf>=3.11.3->cryptowatch-sdk) (1.14.0)\n"
     ]
    }
   ],
   "source": [
    "#!pip install --upgrade pip\n",
    "#!pip uninstall cryptowatch\n",
    "!pip install cryptowatch-sdk"
   ]
  },
  {
   "cell_type": "code",
   "execution_count": 5,
   "metadata": {
    "colab": {
     "base_uri": "https://localhost:8080/",
     "height": 363
    },
    "colab_type": "code",
    "id": "TRZZn4zyji63",
    "outputId": "52ac4f90-5c9c-4605-a9b4-6932d0562985"
   },
   "outputs": [
    {
     "name": "stdout",
     "output_type": "stream",
     "text": [
      "KRAKEN:ZECCAD gained 16.63% since 2016-12-15 00:00:00\n",
      "KRAKEN:ZECGBP gained 18.54% since 2016-12-15 00:00:00\n",
      "KRAKEN:BSVUSD gained 5.32% since 2019-04-25 00:00:00\n",
      "KRAKEN:BSVEUR gained 5.95% since 2019-04-25 00:00:00\n"
     ]
    }
   ],
   "source": [
    "# Example showing all Kraken markets that already\n",
    "# gained at least 5% over the current weekly candle.\n",
    "\n",
    "\n",
    "import cryptowatch as cw\n",
    "from datetime import datetime, timedelta\n",
    "\n",
    "\n",
    "# Get all Kraken markets\n",
    "kraken = cw.markets.list(\"kraken\")\n",
    "\n",
    "# For each Kraken market...\n",
    "for market in kraken.markets:\n",
    "\n",
    "    # Forge current market ticker, like KRAKEN:BTCUSD\n",
    "    ticker = \"{}:{}\".format(market.exchange, market.pair).upper()\n",
    "    # Request weekly candles for that market\n",
    "    candles = cw.markets.get(ticker, ohlc=True, periods=[\"1w\"])\n",
    "\n",
    "    # Each candle is a list of [close_timestamp, open, high, low, close, volume, volume_quote]\n",
    "    # Get close_timestamp, open and close from the most recent weekly candle\n",
    "    close_ts, wkly_open, wkly_close = (\n",
    "        candles.of_1w[-1][0],\n",
    "        candles.of_1w[-1][1],\n",
    "        candles.of_1w[-1][4],\n",
    "    )\n",
    "\n",
    "    # Compute market performance, skip if open was 0\n",
    "    if wkly_open == 0:\n",
    "        continue\n",
    "    perf = (wkly_open - wkly_close) * 100 / wkly_open\n",
    "\n",
    "    # If the market performance was 5% or more, print it\n",
    "    if perf >= 5:\n",
    "        open_ts = datetime.utcfromtimestamp(close_ts) - timedelta(days=7)\n",
    "        print(\"{} gained {:.2f}% since {}\".format(ticker, perf, open_ts))"
   ]
  }
 ],
 "metadata": {
  "colab": {
   "collapsed_sections": [],
   "name": "Copy of Kraken_8.ipynb",
   "provenance": []
  },
  "kernelspec": {
   "display_name": "Python 3",
   "language": "python",
   "name": "python3"
  },
  "language_info": {
   "codemirror_mode": {
    "name": "ipython",
    "version": 3
   },
   "file_extension": ".py",
   "mimetype": "text/x-python",
   "name": "python",
   "nbconvert_exporter": "python",
   "pygments_lexer": "ipython3",
   "version": "3.8.2"
  }
 },
 "nbformat": 4,
 "nbformat_minor": 1
}
